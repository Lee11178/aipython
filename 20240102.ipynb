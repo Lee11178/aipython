{
  "nbformat": 4,
  "nbformat_minor": 0,
  "metadata": {
    "colab": {
      "provenance": [],
      "authorship_tag": "ABX9TyOBicGWGsMKzuQgga/SaWHX",
      "include_colab_link": true
    },
    "kernelspec": {
      "name": "python3",
      "display_name": "Python 3"
    },
    "language_info": {
      "name": "python"
    }
  },
  "cells": [
    {
      "cell_type": "markdown",
      "metadata": {
        "id": "view-in-github",
        "colab_type": "text"
      },
      "source": [
        "<a href=\"https://colab.research.google.com/github/Lee11178/aipython/blob/main/20240102.ipynb\" target=\"_parent\"><img src=\"https://colab.research.google.com/assets/colab-badge.svg\" alt=\"Open In Colab\"/></a>"
      ]
    },
    {
      "cell_type": "code",
      "execution_count": 1,
      "metadata": {
        "colab": {
          "base_uri": "https://localhost:8080/"
        },
        "id": "xkSUiIKiB-XR",
        "outputId": "2af12afa-b790-4db0-cff5-604f3c072a1a"
      },
      "outputs": [
        {
          "output_type": "stream",
          "name": "stdout",
          "text": [
            "우리가 수업하는 실습실:\n",
            "105\n"
          ]
        }
      ],
      "source": [
        "#Program 2-6\n",
        "Lab = 105\n",
        "print(\"우리가 수업하는 실습실:\")\n",
        "print(Lab)"
      ]
    },
    {
      "cell_type": "code",
      "source": [
        "#Program 2-7\n",
        "Lab = 105\n",
        "print(\"우리가 수업하는 실습실:\", Lab)"
      ],
      "metadata": {
        "colab": {
          "base_uri": "https://localhost:8080/"
        },
        "id": "jBbkCJPBEJSN",
        "outputId": "75359bc0-417b-4a4d-d904-a4702f17df8b"
      },
      "execution_count": 2,
      "outputs": [
        {
          "output_type": "stream",
          "name": "stdout",
          "text": [
            "우리가 수업하는 실습실: 105\n"
          ]
        }
      ]
    },
    {
      "cell_type": "code",
      "source": [
        "#Program 2-8\n",
        "my_id = 201721284\n",
        "grade = 3\n",
        "\n",
        "print(\"나의 학번\")\n",
        "print(my_id)\n",
        "print(\"학년 :\")\n",
        "print(grade)"
      ],
      "metadata": {
        "colab": {
          "base_uri": "https://localhost:8080/"
        },
        "id": "LszAslQgERBi",
        "outputId": "c863231b-b124-4f9a-c460-fc8832423aa1"
      },
      "execution_count": 3,
      "outputs": [
        {
          "output_type": "stream",
          "name": "stdout",
          "text": [
            "나의 학번\n",
            "201721284\n",
            "학년 :\n",
            "3\n"
          ]
        }
      ]
    },
    {
      "cell_type": "code",
      "source": [
        "#Program 2-9\n",
        "dollars = 2.75\n",
        "print(\"I have\", dollars, \"in my account\")\n",
        "\n",
        "dollars = 99.95\n",
        "print(\"But now I have\", dollars, \"in my account!\")\n"
      ],
      "metadata": {
        "colab": {
          "base_uri": "https://localhost:8080/"
        },
        "id": "8ZNWJi5MEudK",
        "outputId": "aa23d27b-6a9d-47d1-da16-180de0825635"
      },
      "execution_count": 8,
      "outputs": [
        {
          "output_type": "stream",
          "name": "stdout",
          "text": [
            "I have 2.75 in my account\n",
            "But now I have 99.95 in my account!\n"
          ]
        }
      ]
    },
    {
      "cell_type": "code",
      "source": [
        "#Program 2-10\n",
        "department = \"기계공학부\"\n",
        "name = \"이강현\"\n",
        "\n",
        "print(department, name)"
      ],
      "metadata": {
        "colab": {
          "base_uri": "https://localhost:8080/"
        },
        "id": "P2Y6Ly-AEjwi",
        "outputId": "eee1f752-b5ae-4aab-b97c-2a0d31a530d2"
      },
      "execution_count": 9,
      "outputs": [
        {
          "output_type": "stream",
          "name": "stdout",
          "text": [
            "기계공학부 이강현\n"
          ]
        }
      ]
    },
    {
      "cell_type": "code",
      "source": [
        "#Program 2-11\n",
        "department = input(\"학과명 : \")\n",
        "\n",
        "name = input(\"성명 : \")\n",
        "\n",
        "print(\"안녕하세요\",department,name)"
      ],
      "metadata": {
        "colab": {
          "base_uri": "https://localhost:8080/"
        },
        "id": "xtCIOTMUFIw2",
        "outputId": "b524339a-5b9a-4a23-f4af-930648a08c10"
      },
      "execution_count": 13,
      "outputs": [
        {
          "output_type": "stream",
          "name": "stdout",
          "text": [
            "학과명 : 기계공학부\n",
            "성명 : 이강현\n",
            "안녕하세요 기계공학부 이강현\n"
          ]
        }
      ]
    },
    {
      "cell_type": "code",
      "source": [
        "#Program 2-12\n",
        "name = input(\"당신의 이름은 무엇입니까? \")\n",
        "age = input(\"나이는 어떻게 되시나요? \")\n",
        "attending_time = input(\"통학시간은 얼마나 걸립니까? \")\n",
        "\n",
        "print(\"입력 정보는 다음과 같습니다.\")\n",
        "print(\"이름 :\", name)\n",
        "print(\"나이 : \", age)\n",
        "print(\"통학시간 :\", attending_time)"
      ],
      "metadata": {
        "colab": {
          "base_uri": "https://localhost:8080/"
        },
        "id": "HL1KruO3Fh4q",
        "outputId": "d87085ef-7940-4e06-953a-48efb439867d"
      },
      "execution_count": 16,
      "outputs": [
        {
          "output_type": "stream",
          "name": "stdout",
          "text": [
            "당신의 이름은 무엇입니까? 이강현\n",
            "나이는 어떻게 되시나요? ㅇ\n",
            "통학시간은 얼마나 걸립니까? ㅇ\n",
            "입력 정보는 다음과 같습니다.\n",
            "이름 : 이강현\n",
            "나이 :  ㅇ\n",
            "통학시간 : ㅇ\n"
          ]
        }
      ]
    },
    {
      "cell_type": "code",
      "source": [
        "#Program 2-13\n",
        "\n",
        "salaly = 2500.0\n",
        "\n",
        "bonus = 1200.0\n",
        "\n",
        "pay = salaly + bonus\n",
        "print(\"총 급여 :\", pay)"
      ],
      "metadata": {
        "colab": {
          "base_uri": "https://localhost:8080/"
        },
        "id": "j2pdniU3GJPb",
        "outputId": "ca7fa759-edf2-4d5d-d565-8b09bd156e06"
      },
      "execution_count": 17,
      "outputs": [
        {
          "output_type": "stream",
          "name": "stdout",
          "text": [
            "총 급여 : 3700.0\n"
          ]
        }
      ]
    },
    {
      "cell_type": "code",
      "source": [
        "#Program 2-14\n",
        "ogirinal_price = float(input(\"제품의 원가를 입력해주세요 :\"))\n",
        "\n",
        "discount = ogirinal_price*0.2\n",
        "\n",
        "sale_price = ogirinal_price - discount\n",
        "\n",
        "print(\"할인가격 : \", sale_price)"
      ],
      "metadata": {
        "colab": {
          "base_uri": "https://localhost:8080/"
        },
        "id": "iNQv78suGZRD",
        "outputId": "dc5a630a-dbae-4fe7-f1ad-a8ceb2b97665"
      },
      "execution_count": 19,
      "outputs": [
        {
          "output_type": "stream",
          "name": "stdout",
          "text": [
            "제품의 원가를 입력해주세요 :100\n",
            "할인가격 :  80.0\n"
          ]
        }
      ]
    },
    {
      "cell_type": "code",
      "source": [
        "#Program 2-15\n",
        "\n",
        "test1 = float(input(\"첫 번째 과목 점수를 입력해주세요 :\"))\n",
        "test2 = float(input(\"두 번째 과목 점수를 입력해주세요 :\"))\n",
        "test3 = float(input(\"세 번째 과목 점수를 입력해주세요 :\"))\n",
        "\n",
        "average = (test1 + test2 + test3) / 3\n",
        "\n",
        "print(\"3 과목의 평균 점수 :\", average)"
      ],
      "metadata": {
        "colab": {
          "base_uri": "https://localhost:8080/"
        },
        "id": "K3dQQ824G_T0",
        "outputId": "764527df-693f-418b-d121-3941f2155ba0"
      },
      "execution_count": 20,
      "outputs": [
        {
          "output_type": "stream",
          "name": "stdout",
          "text": [
            "첫 번째 과목 점수를 입력해주세요 :90\n",
            "두 번째 과목 점수를 입력해주세요 :80\n",
            "세 번째 과목 점수를 입력해주세요 :100\n",
            "3 과목의 평균 점수 : 90.0\n"
          ]
        }
      ]
    },
    {
      "cell_type": "code",
      "source": [
        "#Program 2-16\n",
        "total_seconds = float(input(\"시간 값을 초 단위로 입력해주세요 :\"))\n",
        "\n",
        "hours = total_seconds // 3600\n",
        "\n",
        "minutes = (total_seconds // 60) %60\n",
        "\n",
        "seconds = total_seconds %60\n",
        "\n",
        "print('시 분 초는 다음과 같습니다.')\n",
        "print('시: ', hours)\n",
        "print('분: ', minutes)\n",
        "print('초: ', seconds)"
      ],
      "metadata": {
        "colab": {
          "base_uri": "https://localhost:8080/"
        },
        "id": "pd-nIekrHb_3",
        "outputId": "7d0fd691-ea4d-40df-f031-8aa54e87e4d8"
      },
      "execution_count": 23,
      "outputs": [
        {
          "output_type": "stream",
          "name": "stdout",
          "text": [
            "시간 값을 초 단위로 입력해주세요 :67\n",
            "시 분 초는 다음과 같습니다.\n",
            "시:  0.0\n",
            "분:  1.0\n",
            "초:  7.0\n"
          ]
        }
      ]
    },
    {
      "cell_type": "code",
      "source": [
        "#Program 2-17\n",
        "future_value = float(input(\"목표액을 입력해주세요 :\"))\n",
        "\n",
        "#연간 이율\n",
        "rate = float(input(\"연간 이율을 입력해주세요 :\"))\n",
        "\n",
        "#적립 기간\n",
        "years = int(input(\"저축 기간을 연 단위로 입력해주세요 :\"))\n",
        "\n",
        "#적립해야 할 금액\n",
        "present_value = future_value / (1.0 + rate)**years\n",
        "\n",
        "print(\"적립 금액 : \", present_value)"
      ],
      "metadata": {
        "colab": {
          "base_uri": "https://localhost:8080/"
        },
        "id": "VfPdfCrDIwoP",
        "outputId": "e7ca1fda-bd05-4667-b5a6-84df0b58f95f"
      },
      "execution_count": 24,
      "outputs": [
        {
          "output_type": "stream",
          "name": "stdout",
          "text": [
            "목표액을 입력해주세요 :100000\n",
            "연간 이율을 입력해주세요 :0.05\n",
            "저축 기간을 연 단위로 입력해주세요 :10\n",
            "적립 금액 :  61391.32535407592\n"
          ]
        }
      ]
    },
    {
      "cell_type": "code",
      "source": [
        "#Program 2-18\n",
        "\n",
        "print(\"a\",\"b\",\"c\")\n",
        "print(\"a\",\"b\",\"c\",sep='')\n",
        "print(\"a\",\"b\",\"c\",sep='***')\n"
      ],
      "metadata": {
        "colab": {
          "base_uri": "https://localhost:8080/"
        },
        "id": "RLMghgpZJvhC",
        "outputId": "0de262c0-4fc5-48fd-eae9-46dc9e261bae"
      },
      "execution_count": 27,
      "outputs": [
        {
          "output_type": "stream",
          "name": "stdout",
          "text": [
            "a b c\n",
            "abc\n",
            "a***b***c\n"
          ]
        }
      ]
    },
    {
      "cell_type": "code",
      "source": [
        "#Program 2-19\n",
        "print(\"a\")\n",
        "print(\"b\")\n",
        "print(\"c\", end='')\n",
        "print(\"d\", end='')\n",
        "print(\"e\", end='***')\n",
        "print(\"f\")"
      ],
      "metadata": {
        "colab": {
          "base_uri": "https://localhost:8080/"
        },
        "id": "vszOvL0UKFMO",
        "outputId": "93f1d41f-181a-4ab9-e910-e0ec779b08d4"
      },
      "execution_count": 29,
      "outputs": [
        {
          "output_type": "stream",
          "name": "stdout",
          "text": [
            "a\n",
            "b\n",
            "cde***f\n"
          ]
        }
      ]
    },
    {
      "cell_type": "code",
      "source": [
        "#Program 2-20\n",
        "amount_due = 5000.0\n",
        "monthly_payment = amount_due / 12.0\n",
        "print(\"월급여 :\", monthly_payment)"
      ],
      "metadata": {
        "colab": {
          "base_uri": "https://localhost:8080/"
        },
        "id": "qSRqPqgLKLCC",
        "outputId": "dbcfa1a2-9e89-4567-8848-01e4775ae793"
      },
      "execution_count": 30,
      "outputs": [
        {
          "output_type": "stream",
          "name": "stdout",
          "text": [
            "월급여 : 416.6666666666667\n"
          ]
        }
      ]
    },
    {
      "cell_type": "code",
      "source": [
        "#Program 2-21\n",
        "amount_due = 5000.0\n",
        "monthly_payment = amount_due / 12.0\n",
        "print(\"월급여 :\", format(monthly_payment, '.2f'))"
      ],
      "metadata": {
        "colab": {
          "base_uri": "https://localhost:8080/"
        },
        "id": "tscYTT4BKvdF",
        "outputId": "333b4c79-4794-4333-8022-8af6ee02b19f"
      },
      "execution_count": 31,
      "outputs": [
        {
          "output_type": "stream",
          "name": "stdout",
          "text": [
            "월급여 : 416.67\n"
          ]
        }
      ]
    },
    {
      "cell_type": "code",
      "source": [
        "#Program 2-22\n",
        "amount_due = 5000.0\n",
        "annual_pay = amount_due * 12.0\n",
        "print(\"연봉 $ :\", format(annual_pay, ',.2f'))"
      ],
      "metadata": {
        "colab": {
          "base_uri": "https://localhost:8080/"
        },
        "id": "9lJYTP0yK7rJ",
        "outputId": "f37b4894-9b14-49be-97b5-769b46884726"
      },
      "execution_count": 34,
      "outputs": [
        {
          "output_type": "stream",
          "name": "stdout",
          "text": [
            "연봉 $ : 60,000.00\n"
          ]
        }
      ]
    },
    {
      "cell_type": "code",
      "source": [
        "#Program 2-23\n",
        "num1 = 127.899\n",
        "num2 = 3465.148\n",
        "num3 = 3.776\n",
        "num4 = 264.821\n",
        "num5 = 88.081\n",
        "num6 = 799.999\n",
        "\n",
        "print(format(num1, '7.2f'))\n",
        "print(format(num2, '7.2f'))\n",
        "print(format(num3, '7.2f'))\n",
        "print(format(num4, '7.2f'))\n",
        "print(format(num5, '7.2f'))\n",
        "print(format(num6, '7.2f'))"
      ],
      "metadata": {
        "colab": {
          "base_uri": "https://localhost:8080/"
        },
        "id": "V_UYBdZKLdRz",
        "outputId": "6b7f7b75-6662-4596-b3f0-3c00ae8e291e"
      },
      "execution_count": 35,
      "outputs": [
        {
          "output_type": "stream",
          "name": "stdout",
          "text": [
            " 127.90\n",
            "3465.15\n",
            "   3.78\n",
            " 264.82\n",
            "  88.08\n",
            " 800.00\n"
          ]
        }
      ]
    }
  ]
}